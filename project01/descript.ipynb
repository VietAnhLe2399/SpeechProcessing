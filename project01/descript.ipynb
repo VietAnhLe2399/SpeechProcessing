{
 "cells": [
  {
   "cell_type": "code",
   "execution_count": 1,
   "metadata": {},
   "outputs": [],
   "source": [
    "from underthesea import sent_tokenize"
   ]
  },
  {
   "cell_type": "code",
   "execution_count": 17,
   "metadata": {},
   "outputs": [],
   "source": [
    "with open('article/y_kien.txt', 'r', encoding='utf-8') as file:\n",
    "    url = file.readline()\n",
    "    text= file.read()"
   ]
  },
  {
   "cell_type": "code",
   "execution_count": 18,
   "metadata": {},
   "outputs": [
    {
     "data": {
      "text/plain": [
       "'https://vnexpress.net/y-kien/the-na-o-la-dong-cua-hang-dich-vu-khong-thiet-yeu-o-ha-no-i-4075105.html\\n'"
      ]
     },
     "execution_count": 18,
     "metadata": {},
     "output_type": "execute_result"
    }
   ],
   "source": [
    "url"
   ]
  },
  {
   "cell_type": "code",
   "execution_count": 15,
   "metadata": {},
   "outputs": [
    {
     "data": {
      "text/plain": [
       "[\"Thế nào là 'đóng cửa hàng dịch vụ không thiết yếu' ở Hà Nội?\",\n",
       " 'Nếu thành phố không thể chỉ mặt, điểm tên, phân loại\\xa0từng mặt hàng\\xa0dịch vụ, e rằng nhiều người\\xa0sẽ rơi vào cảnh \"không biết đường nào mà lần\".',\n",
       " 'Hà Nội vừa yêu cầu tất cả\\xa0cửa hàng dịch vụ không thiết yếu ở Hà Nội, trừ xăng dầu, thuốc chữa bệnh, thực phẩm...\\xa0đều phải đóng cửa đến 5/4, tại cuộc họp Ban chỉ đạo phòng, chống Covid-19 của\\xa0thành phố, chiều\\xa025/3.',\n",
       " 'Các cửa hàng phục vụ những\\xa0dịch vụ thiết yếu cho người dân vẫn hoạt động bình thường, còn lại cần tạm thời đóng cửa để ngăn ngừa sự lây lan của dịch bệnh.',\n",
       " 'Trước đó chiều 24/3,\\xa0TP HCM\\xa0đã ra văn bản yêu cầu toàn bộ cơ sở dịch vụ ăn uống có quy mô trên 30 người, bida, phòng gym, spa, tiệm hớt tóc... phải dừng hoạt động từ 18h ngày 24/3 đến hết ngày 31/3.',\n",
       " 'Câu hỏi được đặt ra là những dịch vụ nào được cọi là thiết yếu và không thiết yếu?',\n",
       " 'Nếu thành phố không thể chỉ mặt, điểm tên, phân loại\\xa0từng mặt hàng\\xa0dịch vụ, tôi e rằng nhiều người kinh doanh và cả những người tiêu dùng cũng sẽ rơi vào cảnh mơ hồ, không biết đường nào mà lần.',\n",
       " 'Công tác chống dịch Covid-19 của thủ đô cũng từ đó mà thêm chậm trễ và khó khăn.',\n",
       " 'Nếu như TP HCM yêu cầu toàn bộ\\xa0cơ sở dịch vụ ăn uống có quy mô trên 30 người, bida, phòng gym, spa, tiệm hớt tóc... phải dừng hoạt động thì việc Hà Nội đặt ra yêu cầu đóng các cửa hàng dịch vụ không thiết yếu một cách chung chung, thiếu rõ ràng vô tình khiến người kinh doanh và người dân khó khăn trong việc nắm bắt tinh thần chung để chấp hành.',\n",
       " 'Thời gian qua, Hà Nội đã chứng kiến không ít trường hợp người dân tụ tập đi lễ chùa, tụ tập ăn uống rất đông ở hàng quán, vỉa hè.',\n",
       " 'Muốn dập dịch, các tỉnh, thành phố lớn nhỏ đều cần hành động một cách đồng bộ, nhất quán, quyết liệt, không thể để nơi làm trước, nơi làm sau; nơi làm chặt, nơi làm lỏng, bởi như vậy sẽ không khác gì bơm hơi vào một quả bóng đang xì.',\n",
       " 'Chúng ta đã đi chậm hơn Covid-19 một bước và thiếu cứng rắn trong việc cấm nhập cảnh tất cả các đường bay quốc tế dù cho kịch bản đã có từ trước.',\n",
       " 'Thời gian cho chúng ta không còn nhiều, vậy nên mọi biện pháp mạnh nhất cần được thực hiện sớm trước khi hậu quả vượt ngoài tầm kiểm soát.',\n",
       " 'Hãy bắt đầu từ những thứ chi tiết nhất, nhỏ nhất để mọi người dân, mọi tầng lớp xã hội đều hiểu và đồng lòng ngăn chặn dịch bệnh lây lan cộng đồng.']"
      ]
     },
     "execution_count": 15,
     "metadata": {},
     "output_type": "execute_result"
    }
   ],
   "source": [
    "sent_tokenize(text)"
   ]
  },
  {
   "cell_type": "code",
   "execution_count": 16,
   "metadata": {},
   "outputs": [],
   "source": [
    "category = ['thoi_su', 'goc_nhin', 'the_gioi', 'kinh_doanh', 'giai_tri', 'the_thao', 'phap_luat', 'giao_duc', 'suc_khoe', 'doi_song',\n",
    "            'du_lich', 'khoa_hoc', 'so_hoa', 'xe', 'y_kien', 'tam_su']"
   ]
  },
  {
   "cell_type": "code",
   "execution_count": 27,
   "metadata": {},
   "outputs": [],
   "source": [
    "for cat in category:\n",
    "    with open('article/'+cat+'.txt', 'r', encoding='utf-8') as article:\n",
    "        with open('data/'+cat+ '/' + cat + '_description.txt', 'w', encoding='utf-8') as desFile:\n",
    "            desFile.write(article.readline())\n",
    "            fullText = article.read()\n",
    "            fullText = sent_tokenize(fullText)\n",
    "            for i in range(len(fullText)):\n",
    "                desFile.write(cat + '_' + str(i) + '.wav\\n')\n",
    "                desFile.write(fullText[i]+'\\n')"
   ]
  },
  {
   "cell_type": "code",
   "execution_count": null,
   "metadata": {},
   "outputs": [],
   "source": []
  }
 ],
 "metadata": {
  "kernelspec": {
   "display_name": "Python 3",
   "language": "python",
   "name": "python3"
  },
  "language_info": {
   "codemirror_mode": {
    "name": "ipython",
    "version": 3
   },
   "file_extension": ".py",
   "mimetype": "text/x-python",
   "name": "python",
   "nbconvert_exporter": "python",
   "pygments_lexer": "ipython3",
   "version": "3.7.7"
  }
 },
 "nbformat": 4,
 "nbformat_minor": 4
}
