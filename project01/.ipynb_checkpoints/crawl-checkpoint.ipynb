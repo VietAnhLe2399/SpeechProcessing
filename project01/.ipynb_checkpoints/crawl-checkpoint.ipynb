{
 "cells": [
  {
   "cell_type": "code",
   "execution_count": 28,
   "metadata": {},
   "outputs": [],
   "source": [
    "import requests\n",
    "import urllib.request\n",
    "import time\n",
    "from bs4 import BeautifulSoup"
   ]
  },
  {
   "cell_type": "code",
   "execution_count": 29,
   "metadata": {},
   "outputs": [],
   "source": [
    "urls = {}"
   ]
  },
  {
   "cell_type": "code",
   "execution_count": 30,
   "metadata": {},
   "outputs": [],
   "source": [
    "with open('urls.txt', 'r') as urlFile:\n",
    "    lines = urlFile.readlines()"
   ]
  },
  {
   "cell_type": "code",
   "execution_count": 31,
   "metadata": {},
   "outputs": [
    {
     "data": {
      "text/plain": [
       "['thoi_su: https://vnexpress.net/thoi-su/hai-nguoi-chet-sau-vu-chay-cua-hang-4075990.html\\n',\n",
       " 'goc_nhin: https://vnexpress.net/goc-nhin/bao-ve-thay-thuoc-4060928.html\\n',\n",
       " 'the_gioi: https://vnexpress.net/the-gioi/viet-nam-khuyen-cao-cong-dan-khong-ve-nuoc-4076204.html\\n',\n",
       " 'kinh_doanh: https://vnexpress.net/kinh-doanh/xang-co-the-tiep-tuc-giam-sau-ngay-mai-4076155.html\\n',\n",
       " 'giai_tri: https://vnexpress.net/giai-tri/cac-rap-phim-trung-quoc-lai-dong-cua-4076117.html\\n',\n",
       " 'the_thao: https://vnexpress.net/the-thao/ioc-muon-to-chuc-olympic-dau-nam-2021-4076115.html\\n',\n",
       " 'phap_luat: https://vnexpress.net/phap-luat/hai-thanh-nien-dung-sung-cuop-cua-hang-4076176.html\\n',\n",
       " 'giao_duc: https://vnexpress.net/giao-duc/70-000-sinh-vien-tiep-tuc-nghi-hoc-4075629.html\\n',\n",
       " 'suc_khoe: https://vnexpress.net/suc-khoe/tp-hcm-lay-mau-xet-nghiem-tan-nha-nguoi-nhap-canh-4076101.html\\n',\n",
       " 'doi_song: https://vnexpress.net/doi-song/benh-nhan-covid-19-nhu-co-thuy-tinh-trong-phoi-4072577.html\\n',\n",
       " 'du_lich: https://vnexpress.net/du-lich/bi-phat-tien-vi-roi-nha-khi-cach-ly-4075780.html\\n',\n",
       " 'khoa_hoc: https://vnexpress.net/khoa-hoc/duoi-uoi-tu-lau-don-chuong-4075978.html\\n',\n",
       " 'so_hoa: https://vnexpress.net/so-hoa/ung-dung-ncovi-canh-bao-suc-khoe-qua-ma-qr-4075795.html\\n',\n",
       " 'xe: https://vnexpress.net/oto-xe-may/nhieu-cua-hang-xang-dau-co-the-bi-dong-cua-vi-covid-19-4075820.html\\n',\n",
       " 'y_kien: https://vnexpress.net/y-kien/the-na-o-la-dong-cua-hang-dich-vu-khong-thiet-yeu-o-ha-no-i-4075105.html\\n',\n",
       " 'tam_su: https://vnexpress.net/tam-su/ban-trai-im-lang-ca-tuan-khi-gian-doi-4075537.html\\n']"
      ]
     },
     "execution_count": 31,
     "metadata": {},
     "output_type": "execute_result"
    }
   ],
   "source": [
    "lines"
   ]
  },
  {
   "cell_type": "code",
   "execution_count": 36,
   "metadata": {},
   "outputs": [],
   "source": [
    "for line in lines:\n",
    "    cat, url = line.split(': ')\n",
    "    urls[cat] = url[:-1]"
   ]
  },
  {
   "cell_type": "code",
   "execution_count": 37,
   "metadata": {},
   "outputs": [
    {
     "data": {
      "text/plain": [
       "{'thoi_su': 'https://vnexpress.net/thoi-su/hai-nguoi-chet-sau-vu-chay-cua-hang-4075990.html',\n",
       " 'goc_nhin': 'https://vnexpress.net/goc-nhin/bao-ve-thay-thuoc-4060928.html',\n",
       " 'the_gioi': 'https://vnexpress.net/the-gioi/viet-nam-khuyen-cao-cong-dan-khong-ve-nuoc-4076204.html',\n",
       " 'kinh_doanh': 'https://vnexpress.net/kinh-doanh/xang-co-the-tiep-tuc-giam-sau-ngay-mai-4076155.html',\n",
       " 'giai_tri': 'https://vnexpress.net/giai-tri/cac-rap-phim-trung-quoc-lai-dong-cua-4076117.html',\n",
       " 'the_thao': 'https://vnexpress.net/the-thao/ioc-muon-to-chuc-olympic-dau-nam-2021-4076115.html',\n",
       " 'phap_luat': 'https://vnexpress.net/phap-luat/hai-thanh-nien-dung-sung-cuop-cua-hang-4076176.html',\n",
       " 'giao_duc': 'https://vnexpress.net/giao-duc/70-000-sinh-vien-tiep-tuc-nghi-hoc-4075629.html',\n",
       " 'suc_khoe': 'https://vnexpress.net/suc-khoe/tp-hcm-lay-mau-xet-nghiem-tan-nha-nguoi-nhap-canh-4076101.html',\n",
       " 'doi_song': 'https://vnexpress.net/doi-song/benh-nhan-covid-19-nhu-co-thuy-tinh-trong-phoi-4072577.html',\n",
       " 'du_lich': 'https://vnexpress.net/du-lich/bi-phat-tien-vi-roi-nha-khi-cach-ly-4075780.html',\n",
       " 'khoa_hoc': 'https://vnexpress.net/khoa-hoc/duoi-uoi-tu-lau-don-chuong-4075978.html',\n",
       " 'so_hoa': 'https://vnexpress.net/so-hoa/ung-dung-ncovi-canh-bao-suc-khoe-qua-ma-qr-4075795.html',\n",
       " 'xe': 'https://vnexpress.net/oto-xe-may/nhieu-cua-hang-xang-dau-co-the-bi-dong-cua-vi-covid-19-4075820.html',\n",
       " 'y_kien': 'https://vnexpress.net/y-kien/the-na-o-la-dong-cua-hang-dich-vu-khong-thiet-yeu-o-ha-no-i-4075105.html',\n",
       " 'tam_su': 'https://vnexpress.net/tam-su/ban-trai-im-lang-ca-tuan-khi-gian-doi-4075537.html'}"
      ]
     },
     "execution_count": 37,
     "metadata": {},
     "output_type": "execute_result"
    }
   ],
   "source": [
    "urls"
   ]
  },
  {
   "cell_type": "code",
   "execution_count": 42,
   "metadata": {},
   "outputs": [],
   "source": [
    "def crawl(cat, url):\n",
    "    response = requests.get(url)\n",
    "    soup = BeautifulSoup(response.content)\n",
    "    article = soup.find(class_='fck_detail')\n",
    "    if cat != 'goc_nhin':\n",
    "        title = soup.find('h1', class_='title_news_detail mb10')\n",
    "        description = soup.find(class_='description')\n",
    "    else:\n",
    "        title = soup.find('h1', class_='title_gn_detail')\n",
    "    article_list = article.find_all('p', class_='Normal')\n",
    "    with open(cat + '.txt', 'w', encoding='utf-8') as file:\n",
    "        file.write(url)\n",
    "        file.write(title.text[:-1] + '.\\n')\n",
    "        if cat != 'goc_nhin':\n",
    "            file.write(description.text + '\\n')\n",
    "        file.write('\\n'.join([p.text for p in article_list[:-1]]))"
   ]
  },
  {
   "cell_type": "code",
   "execution_count": 43,
   "metadata": {},
   "outputs": [],
   "source": [
    "for cat in urls:\n",
    "    crawl(cat, urls[cat])"
   ]
  },
  {
   "cell_type": "code",
   "execution_count": null,
   "metadata": {},
   "outputs": [],
   "source": []
  }
 ],
 "metadata": {
  "kernelspec": {
   "display_name": "Python 3",
   "language": "python",
   "name": "python3"
  },
  "language_info": {
   "codemirror_mode": {
    "name": "ipython",
    "version": 3
   },
   "file_extension": ".py",
   "mimetype": "text/x-python",
   "name": "python",
   "nbconvert_exporter": "python",
   "pygments_lexer": "ipython3",
   "version": "3.7.7"
  }
 },
 "nbformat": 4,
 "nbformat_minor": 4
}
