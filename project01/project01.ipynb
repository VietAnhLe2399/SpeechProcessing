{
 "cells": [
  {
   "cell_type": "code",
   "execution_count": 1,
   "metadata": {},
   "outputs": [],
   "source": [
    "import re\n",
    "import numpy as np"
   ]
  },
  {
   "cell_type": "code",
   "execution_count": 2,
   "metadata": {},
   "outputs": [],
   "source": [
    "with open('article/phap_luat.txt', 'r', encoding='utf-8') as f:\n",
    "    f.readline()\n",
    "    text = f.read()\n",
    "\n",
    "text = re.sub('[\\n]+', ' ', text)\n",
    "sentences = re.split(r' *[\\.\\?!][\\'\"\\)\\]]* *', text)"
   ]
  },
  {
   "cell_type": "code",
   "execution_count": 3,
   "metadata": {},
   "outputs": [
    {
     "data": {
      "text/plain": [
       "'Tội phạm khó hoạt động trong Covid-19. Covid-19 bùng phát khiến hoạt động của tội phạm có tổ chức bị giới hạn, buộc\\xa0phải thay đổi phương cách. Giống như doanh nghiệp hoạt động hợp pháp, tội phạm có tổ chức muốn phát triển cần dựa vào các yếu tố như biên giới mở cửa, kênh giao tiếp hiệu quả, và khả năng tiếp cận \"khách hàng\". Trong bối cảnh Covid-19 khiến nhiều nơi đóng cửa biên giới, cuộc sống hàng ngày phải chịu nhiều hạn chế, hoạt động của tội phạm có tổ chức sẽ bị ảnh hưởng nghiêm trọng, theo Keith Ditcham -\\xa0chuyên gia thuộc tổ chức nghiên cứu Royal United Services Institute (Anh). Hoạt động buôn lậu, vận chuyển ma túy,\\xa0đưa người qua biên giới trái phép gặp biến động khi cả thế giới gần như dừng vận hành. Ví dụ, việc Colombia đóng cửa biên giới với Venezuela vào tháng 3 để ngăn lây nhiễm Covid-19 được ghi nhận là đã thôi thúc tổ chức tội phạm kiếm tiền từ những người muốn rời Colombia. Tại Honduras, trước việc biên giới đóng cửa, tội phạm buôn lậu đã nâng giá \"dịch vụ\" đưa người và hàng hóa trái phép qua lại biên giới. Tại Hong Kong\\xa0vào tháng 2, băng nhóm\\xa0thuộc hội Tam Hoàng tại Hong Kong đã cướp xe tải vận chuyển giấy vệ sinh trong lúc người dân thành phố hoảng loạn vì số ca lây nhiễm tăng cao. Covid-19 cũng khiến hoạt động tài chính của tội phạm có tổ chức tại Mexico\\xa0 bị siết chặt khi\\xa0gặp khó khăn\\xa0mua tiền chất điều chế fentanyl hoặc vận chuyển hàng nhái từ Trung Quốc. Ở mức độ thấp hơn,\\xa0đạo chích cũng khó\\xa0đột nhập tư gia vì người dân ở nhà cả ngày.\\xa0 Tuy vậy, theo ông Ditcham, tội phạm có tổ chức chắc chắn sẽ không ngừng hoạt động. Ví dụ giữa tháng 3, cảnh sát Ireland phải lên tiếng cảnh báo rằng các nhóm tội phạm có thể thừa cơ hành sự trong lúc hoạt động thường ngày của lực lượng chấp pháp bị gián đoạn vì đại dịch. Một trong những lĩnh vực mà tội phạm tổ chức sẽ tập trung\\xa0là lừa đảo qua mạng trực tuyến. Ditcham cho biết khi nhu cầu mua thuốc, khẩu trang và nước rửa tay tăng cao, các trang web giả mạo được dự kiến sẽ xuất hiện ngày càng nhiều. Với lời khẳng định vẫn còn hàng để bán, những trang web này sẽ giao thuốc giả hoặc lợi dụng để chiếm đoạt thông tin ngân hàng của nạn nhân. Người dân dễ trở thành nạn nhân vì ít đề phòng hơn do đang rất cần mua thuốc và đồ vệ sinh. Trong thời gian này, các bệnh viện cũng phải đối mặt với mối đe dọa từ hacker dùng email giả danh Tổ chức Y tế Thế giới để lừa lấy dữ liệu cá nhân. Một khi bị lừa mất dữ liệu bí mật của bệnh nhân, bệnh viện sẽ bị tội phạm đe dọa công khai thông tin để tống tiền. BBC gần đây cũng đã xác định được một số chiêu lừa đảo trực tuyến như \"nhấn vào đây để có thuốc chữa\", lời mời miễn thuế giả\\xa0hoặc lời đề nghị quyên góp cho quỹ chống Covid-19 của WHO hoặc Trung tâm Kiểm soát và Phòng ngừa dịch bệnh Mỹ (CDC).'"
      ]
     },
     "execution_count": 3,
     "metadata": {},
     "output_type": "execute_result"
    }
   ],
   "source": [
    "text"
   ]
  },
  {
   "cell_type": "code",
   "execution_count": 4,
   "metadata": {},
   "outputs": [
    {
     "name": "stdout",
     "output_type": "stream",
     "text": [
      "0   Tội phạm khó hoạt động trong Covid-19\n"
     ]
    }
   ],
   "source": [
    "i = 0\n",
    "for sentence in sentences[:1]:\n",
    "    print(str(i) + '   ' + sentence)\n",
    "    i+=1"
   ]
  },
  {
   "cell_type": "code",
   "execution_count": 5,
   "metadata": {},
   "outputs": [
    {
     "data": {
      "text/plain": [
       "'Tội phạm khó hoạt động trong Covid-19. Covid-19 bùng phát khiến hoạt động của tội phạm có tổ chức bị giới hạn, buộc\\xa0phải thay đổi phương cách. Giống như doanh nghiệp hoạt động hợp pháp, tội phạm có tổ chức muốn phát triển cần dựa vào các yếu tố như biên giới mở cửa, kênh giao tiếp hiệu quả, và khả năng tiếp cận \"khách hàng\". Trong bối cảnh Covid-19 khiến nhiều nơi đóng cửa biên giới, cuộc sống hàng ngày phải chịu nhiều hạn chế, hoạt động của tội phạm có tổ chức sẽ bị ảnh hưởng nghiêm trọng, theo Keith Ditcham -\\xa0chuyên gia thuộc tổ chức nghiên cứu Royal United Services Institute (Anh). Hoạt động buôn lậu, vận chuyển ma túy,\\xa0đưa người qua biên giới trái phép gặp biến động khi cả thế giới gần như dừng vận hành. Ví dụ, việc Colombia đóng cửa biên giới với Venezuela vào tháng 3 để ngăn lây nhiễm Covid-19 được ghi nhận là đã thôi thúc tổ chức tội phạm kiếm tiền từ những người muốn rời Colombia. Tại Honduras, trước việc biên giới đóng cửa, tội phạm buôn lậu đã nâng giá \"dịch vụ\" đưa người và hàng hóa trái phép qua lại biên giới. Tại Hong Kong\\xa0vào tháng 2, băng nhóm\\xa0thuộc hội Tam Hoàng tại Hong Kong đã cướp xe tải vận chuyển giấy vệ sinh trong lúc người dân thành phố hoảng loạn vì số ca lây nhiễm tăng cao. Covid-19 cũng khiến hoạt động tài chính của tội phạm có tổ chức tại Mexico\\xa0 bị siết chặt khi\\xa0gặp khó khăn\\xa0mua tiền chất điều chế fentanyl hoặc vận chuyển hàng nhái từ Trung Quốc. Ở mức độ thấp hơn,\\xa0đạo chích cũng khó\\xa0đột nhập tư gia vì người dân ở nhà cả ngày.\\xa0 Tuy vậy, theo ông Ditcham, tội phạm có tổ chức chắc chắn sẽ không ngừng hoạt động. Ví dụ giữa tháng 3, cảnh sát Ireland phải lên tiếng cảnh báo rằng các nhóm tội phạm có thể thừa cơ hành sự trong lúc hoạt động thường ngày của lực lượng chấp pháp bị gián đoạn vì đại dịch. Một trong những lĩnh vực mà tội phạm tổ chức sẽ tập trung\\xa0là lừa đảo qua mạng trực tuyến. Ditcham cho biết khi nhu cầu mua thuốc, khẩu trang và nước rửa tay tăng cao, các trang web giả mạo được dự kiến sẽ xuất hiện ngày càng nhiều. Với lời khẳng định vẫn còn hàng để bán, những trang web này sẽ giao thuốc giả hoặc lợi dụng để chiếm đoạt thông tin ngân hàng của nạn nhân. Người dân dễ trở thành nạn nhân vì ít đề phòng hơn do đang rất cần mua thuốc và đồ vệ sinh. Trong thời gian này, các bệnh viện cũng phải đối mặt với mối đe dọa từ hacker dùng email giả danh Tổ chức Y tế Thế giới để lừa lấy dữ liệu cá nhân. Một khi bị lừa mất dữ liệu bí mật của bệnh nhân, bệnh viện sẽ bị tội phạm đe dọa công khai thông tin để tống tiền. BBC gần đây cũng đã xác định được một số chiêu lừa đảo trực tuyến như \"nhấn vào đây để có thuốc chữa\", lời mời miễn thuế giả\\xa0hoặc lời đề nghị quyên góp cho quỹ chống Covid-19 của WHO hoặc Trung tâm Kiểm soát và Phòng ngừa dịch bệnh Mỹ (CDC).'"
      ]
     },
     "execution_count": 5,
     "metadata": {},
     "output_type": "execute_result"
    }
   ],
   "source": [
    "text"
   ]
  },
  {
   "cell_type": "code",
   "execution_count": 6,
   "metadata": {},
   "outputs": [
    {
     "data": {
      "text/plain": [
       "['Tội phạm khó hoạt động trong Covid-19',\n",
       " 'Covid-19 bùng phát khiến hoạt động của tội phạm có tổ chức bị giới hạn, buộc\\xa0phải thay đổi phương cách',\n",
       " 'Giống như doanh nghiệp hoạt động hợp pháp, tội phạm có tổ chức muốn phát triển cần dựa vào các yếu tố như biên giới mở cửa, kênh giao tiếp hiệu quả, và khả năng tiếp cận \"khách hàng\"',\n",
       " 'Trong bối cảnh Covid-19 khiến nhiều nơi đóng cửa biên giới, cuộc sống hàng ngày phải chịu nhiều hạn chế, hoạt động của tội phạm có tổ chức sẽ bị ảnh hưởng nghiêm trọng, theo Keith Ditcham -\\xa0chuyên gia thuộc tổ chức nghiên cứu Royal United Services Institute (Anh)',\n",
       " 'Hoạt động buôn lậu, vận chuyển ma túy,\\xa0đưa người qua biên giới trái phép gặp biến động khi cả thế giới gần như dừng vận hành',\n",
       " 'Ví dụ, việc Colombia đóng cửa biên giới với Venezuela vào tháng 3 để ngăn lây nhiễm Covid-19 được ghi nhận là đã thôi thúc tổ chức tội phạm kiếm tiền từ những người muốn rời Colombia',\n",
       " 'Tại Honduras, trước việc biên giới đóng cửa, tội phạm buôn lậu đã nâng giá \"dịch vụ\" đưa người và hàng hóa trái phép qua lại biên giới',\n",
       " 'Tại Hong Kong\\xa0vào tháng 2, băng nhóm\\xa0thuộc hội Tam Hoàng tại Hong Kong đã cướp xe tải vận chuyển giấy vệ sinh trong lúc người dân thành phố hoảng loạn vì số ca lây nhiễm tăng cao',\n",
       " 'Covid-19 cũng khiến hoạt động tài chính của tội phạm có tổ chức tại Mexico\\xa0 bị siết chặt khi\\xa0gặp khó khăn\\xa0mua tiền chất điều chế fentanyl hoặc vận chuyển hàng nhái từ Trung Quốc',\n",
       " 'Ở mức độ thấp hơn,\\xa0đạo chích cũng khó\\xa0đột nhập tư gia vì người dân ở nhà cả ngày',\n",
       " '\\xa0 Tuy vậy, theo ông Ditcham, tội phạm có tổ chức chắc chắn sẽ không ngừng hoạt động',\n",
       " 'Ví dụ giữa tháng 3, cảnh sát Ireland phải lên tiếng cảnh báo rằng các nhóm tội phạm có thể thừa cơ hành sự trong lúc hoạt động thường ngày của lực lượng chấp pháp bị gián đoạn vì đại dịch',\n",
       " 'Một trong những lĩnh vực mà tội phạm tổ chức sẽ tập trung\\xa0là lừa đảo qua mạng trực tuyến',\n",
       " 'Ditcham cho biết khi nhu cầu mua thuốc, khẩu trang và nước rửa tay tăng cao, các trang web giả mạo được dự kiến sẽ xuất hiện ngày càng nhiều',\n",
       " 'Với lời khẳng định vẫn còn hàng để bán, những trang web này sẽ giao thuốc giả hoặc lợi dụng để chiếm đoạt thông tin ngân hàng của nạn nhân',\n",
       " 'Người dân dễ trở thành nạn nhân vì ít đề phòng hơn do đang rất cần mua thuốc và đồ vệ sinh',\n",
       " 'Trong thời gian này, các bệnh viện cũng phải đối mặt với mối đe dọa từ hacker dùng email giả danh Tổ chức Y tế Thế giới để lừa lấy dữ liệu cá nhân',\n",
       " 'Một khi bị lừa mất dữ liệu bí mật của bệnh nhân, bệnh viện sẽ bị tội phạm đe dọa công khai thông tin để tống tiền',\n",
       " 'BBC gần đây cũng đã xác định được một số chiêu lừa đảo trực tuyến như \"nhấn vào đây để có thuốc chữa\", lời mời miễn thuế giả\\xa0hoặc lời đề nghị quyên góp cho quỹ chống Covid-19 của WHO hoặc Trung tâm Kiểm soát và Phòng ngừa dịch bệnh Mỹ (CDC)',\n",
       " '']"
      ]
     },
     "execution_count": 6,
     "metadata": {},
     "output_type": "execute_result"
    }
   ],
   "source": [
    "sentences"
   ]
  },
  {
   "cell_type": "code",
   "execution_count": 7,
   "metadata": {},
   "outputs": [],
   "source": [
    "import sounddevice as sd\n",
    "import soundfile as sf\n",
    "import time\n",
    "import matplotlib.pyplot as plt"
   ]
  },
  {
   "cell_type": "code",
   "execution_count": 8,
   "metadata": {},
   "outputs": [
    {
     "name": "stdout",
     "output_type": "stream",
     "text": [
      "pygame 1.9.6\n",
      "Hello from the pygame community. https://www.pygame.org/contribute.html\n"
     ]
    }
   ],
   "source": [
    "import pygame\n",
    "\n",
    "def sync_playback(filename):\n",
    "    # takes in a file and plays it back \n",
    "    pygame.mixer.init()\n",
    "    pygame.mixer.music.load(filename)\n",
    "    pygame.mixer.music.play()"
   ]
  },
  {
   "cell_type": "code",
   "execution_count": 9,
   "metadata": {},
   "outputs": [],
   "source": [
    "sync_playback('data/thoi_su/thoi_su_0.wav')"
   ]
  },
  {
   "cell_type": "code",
   "execution_count": 8,
   "metadata": {},
   "outputs": [],
   "source": [
    "sync_playback('../voicebook/chapter_1_fundamentals/data/sync_record.wav')"
   ]
  },
  {
   "cell_type": "code",
   "execution_count": 10,
   "metadata": {},
   "outputs": [
    {
     "name": "stdout",
     "output_type": "stream",
     "text": [
      "{'name': 'Microsoft Sound Mapper - Input', 'hostapi': 0, 'max_input_channels': 2, 'max_output_channels': 0, 'default_low_input_latency': 0.09, 'default_low_output_latency': 0.09, 'default_high_input_latency': 0.18, 'default_high_output_latency': 0.18, 'default_samplerate': 44100.0}\n",
      "{'name': 'Microphone (Realtek High Defini', 'hostapi': 0, 'max_input_channels': 2, 'max_output_channels': 0, 'default_low_input_latency': 0.09, 'default_low_output_latency': 0.09, 'default_high_input_latency': 0.18, 'default_high_output_latency': 0.18, 'default_samplerate': 44100.0}\n",
      "{'name': 'Microsoft Sound Mapper - Output', 'hostapi': 0, 'max_input_channels': 0, 'max_output_channels': 2, 'default_low_input_latency': 0.09, 'default_low_output_latency': 0.09, 'default_high_input_latency': 0.18, 'default_high_output_latency': 0.18, 'default_samplerate': 44100.0}\n",
      "{'name': 'Speakers (Realtek High Definiti', 'hostapi': 0, 'max_input_channels': 0, 'max_output_channels': 2, 'default_low_input_latency': 0.09, 'default_low_output_latency': 0.09, 'default_high_input_latency': 0.18, 'default_high_output_latency': 0.18, 'default_samplerate': 44100.0}\n",
      "{'name': 'Realtek Digital Output (Realtek', 'hostapi': 0, 'max_input_channels': 0, 'max_output_channels': 2, 'default_low_input_latency': 0.09, 'default_low_output_latency': 0.09, 'default_high_input_latency': 0.18, 'default_high_output_latency': 0.18, 'default_samplerate': 44100.0}\n",
      "{'name': 'Primary Sound Capture Driver', 'hostapi': 1, 'max_input_channels': 2, 'max_output_channels': 0, 'default_low_input_latency': 0.12, 'default_low_output_latency': 0.0, 'default_high_input_latency': 0.24, 'default_high_output_latency': 0.0, 'default_samplerate': 44100.0}\n",
      "{'name': 'Microphone (Realtek High Definition Audio)', 'hostapi': 1, 'max_input_channels': 2, 'max_output_channels': 0, 'default_low_input_latency': 0.12, 'default_low_output_latency': 0.0, 'default_high_input_latency': 0.24, 'default_high_output_latency': 0.0, 'default_samplerate': 44100.0}\n",
      "{'name': 'Primary Sound Driver', 'hostapi': 1, 'max_input_channels': 0, 'max_output_channels': 2, 'default_low_input_latency': 0.0, 'default_low_output_latency': 0.12, 'default_high_input_latency': 0.0, 'default_high_output_latency': 0.24, 'default_samplerate': 44100.0}\n",
      "{'name': 'Speakers (Realtek High Definition Audio)', 'hostapi': 1, 'max_input_channels': 0, 'max_output_channels': 2, 'default_low_input_latency': 0.0, 'default_low_output_latency': 0.12, 'default_high_input_latency': 0.0, 'default_high_output_latency': 0.24, 'default_samplerate': 44100.0}\n",
      "{'name': 'Realtek Digital Output (Realtek High Definition Audio)', 'hostapi': 1, 'max_input_channels': 0, 'max_output_channels': 2, 'default_low_input_latency': 0.0, 'default_low_output_latency': 0.12, 'default_high_input_latency': 0.0, 'default_high_output_latency': 0.24, 'default_samplerate': 44100.0}\n",
      "{'name': 'Speakers (Realtek High Definition Audio)', 'hostapi': 3, 'max_input_channels': 0, 'max_output_channels': 2, 'default_low_input_latency': 0.0, 'default_low_output_latency': 0.003, 'default_high_input_latency': 0.0, 'default_high_output_latency': 0.01, 'default_samplerate': 48000.0}\n",
      "{'name': 'Realtek Digital Output (Realtek High Definition Audio)', 'hostapi': 3, 'max_input_channels': 0, 'max_output_channels': 2, 'default_low_input_latency': 0.0, 'default_low_output_latency': 0.003, 'default_high_input_latency': 0.0, 'default_high_output_latency': 0.01, 'default_samplerate': 48000.0}\n",
      "{'name': 'Microphone (Realtek High Definition Audio)', 'hostapi': 3, 'max_input_channels': 2, 'max_output_channels': 0, 'default_low_input_latency': 0.003, 'default_low_output_latency': 0.0, 'default_high_input_latency': 0.01, 'default_high_output_latency': 0.0, 'default_samplerate': 48000.0}\n",
      "{'name': 'Speakers (Realtek HD Audio output)', 'hostapi': 4, 'max_input_channels': 0, 'max_output_channels': 2, 'default_low_input_latency': 0.01, 'default_low_output_latency': 0.01, 'default_high_input_latency': 0.04, 'default_high_output_latency': 0.04, 'default_samplerate': 44100.0}\n",
      "{'name': 'Microphone (Realtek HD Audio Mic input)', 'hostapi': 4, 'max_input_channels': 2, 'max_output_channels': 0, 'default_low_input_latency': 0.01, 'default_low_output_latency': 0.01, 'default_high_input_latency': 0.04, 'default_high_output_latency': 0.04, 'default_samplerate': 44100.0}\n",
      "{'name': 'Stereo Mix (Realtek HD Audio Stereo input)', 'hostapi': 4, 'max_input_channels': 2, 'max_output_channels': 0, 'default_low_input_latency': 0.01, 'default_low_output_latency': 0.01, 'default_high_input_latency': 0.04, 'default_high_output_latency': 0.04, 'default_samplerate': 48000.0}\n",
      "{'name': 'SPDIF Out (Realtek HDA SPDIF Out)', 'hostapi': 4, 'max_input_channels': 0, 'max_output_channels': 2, 'default_low_input_latency': 0.01, 'default_low_output_latency': 0.01, 'default_high_input_latency': 0.04, 'default_high_output_latency': 0.04, 'default_samplerate': 44100.0}\n"
     ]
    }
   ],
   "source": [
    "# do a mic check\n",
    "\n",
    "mics=sd.query_devices()\n",
    "default_devices=sd.default.device\n",
    "default_input=default_devices[0]\n",
    "default_output=default_devices[1]\n",
    "\n",
    "# prints all available devices \n",
    "for i in range(len(mics)):\n",
    "    print(mics[i])\n",
    "\n",
    "# can set default device easily with \n",
    "sd.default.device = 0"
   ]
  },
  {
   "cell_type": "code",
   "execution_count": 11,
   "metadata": {},
   "outputs": [
    {
     "data": {
      "text/plain": [
       "*  0 Microsoft Sound Mapper - Input, MME (2 in, 0 out)\n",
       "   1 Microphone (Realtek High Defini, MME (2 in, 0 out)\n",
       "   2 Microsoft Sound Mapper - Output, MME (0 in, 2 out)\n",
       "   3 Speakers (Realtek High Definiti, MME (0 in, 2 out)\n",
       "   4 Realtek Digital Output (Realtek, MME (0 in, 2 out)\n",
       "   5 Primary Sound Capture Driver, Windows DirectSound (2 in, 0 out)\n",
       "   6 Microphone (Realtek High Definition Audio), Windows DirectSound (2 in, 0 out)\n",
       "   7 Primary Sound Driver, Windows DirectSound (0 in, 2 out)\n",
       "   8 Speakers (Realtek High Definition Audio), Windows DirectSound (0 in, 2 out)\n",
       "   9 Realtek Digital Output (Realtek High Definition Audio), Windows DirectSound (0 in, 2 out)\n",
       "  10 Speakers (Realtek High Definition Audio), Windows WASAPI (0 in, 2 out)\n",
       "  11 Realtek Digital Output (Realtek High Definition Audio), Windows WASAPI (0 in, 2 out)\n",
       "  12 Microphone (Realtek High Definition Audio), Windows WASAPI (2 in, 0 out)\n",
       "  13 Speakers (Realtek HD Audio output), Windows WDM-KS (0 in, 2 out)\n",
       "  14 Microphone (Realtek HD Audio Mic input), Windows WDM-KS (2 in, 0 out)\n",
       "  15 Stereo Mix (Realtek HD Audio Stereo input), Windows WDM-KS (2 in, 0 out)\n",
       "  16 SPDIF Out (Realtek HDA SPDIF Out), Windows WDM-KS (0 in, 2 out)"
      ]
     },
     "execution_count": 11,
     "metadata": {},
     "output_type": "execute_result"
    }
   ],
   "source": [
    "misc = sd.query_devices()\n",
    "misc"
   ]
  },
  {
   "cell_type": "code",
   "execution_count": 12,
   "metadata": {},
   "outputs": [],
   "source": [
    "def async_playback(filename):\n",
    "    data, fs = sf.read(filename)\n",
    "    sd.play(data, fs)\n",
    "    return data, fs "
   ]
  },
  {
   "cell_type": "code",
   "execution_count": 13,
   "metadata": {},
   "outputs": [],
   "source": [
    "# Do a record in synchronously way\n",
    "def sync_record(filename, duration, fs, channels):\n",
    "    print('recording')\n",
    "    myrecording = sd.rec(int(duration * fs), samplerate=fs, channels=channels)\n",
    "    sd.wait()\n",
    "    sf.write(filename, myrecording, fs)\n",
    "    print('done recording')"
   ]
  },
  {
   "cell_type": "code",
   "execution_count": 14,
   "metadata": {},
   "outputs": [
    {
     "name": "stdout",
     "output_type": "stream",
     "text": [
      "recording\n",
      "done recording\n"
     ]
    }
   ],
   "source": [
    "# HAVE TO CHANGE FS HERE bigger than 16000 ???\n",
    "# 44100 is the default_samplerate of mic\n",
    "sync_record('../chapter1_test_data/sync_record.wav', 5, 44100, 2)"
   ]
  },
  {
   "cell_type": "code",
   "execution_count": 17,
   "metadata": {},
   "outputs": [],
   "source": [
    "sync_playback('thoi_su_2.wav')"
   ]
  },
  {
   "cell_type": "code",
   "execution_count": 15,
   "metadata": {},
   "outputs": [],
   "source": [
    "sync_playback('../chapter1_test_data/sync_record.wav')"
   ]
  },
  {
   "cell_type": "code",
   "execution_count": 12,
   "metadata": {},
   "outputs": [],
   "source": [
    "def async_record(filename, duration, fs, channels):\n",
    "    print('recording')\n",
    "    myrecording = sd.rec(int(duration * fs), samplerate=fs, channels=channels)\n",
    "    # can execute commands \n",
    "    # now wait until done before writing to file \n",
    "    sd.wait()\n",
    "    sf.write(filename, myrecording, fs)\n",
    "    print('done recording')"
   ]
  },
  {
   "cell_type": "code",
   "execution_count": 20,
   "metadata": {},
   "outputs": [
    {
     "name": "stdout",
     "output_type": "stream",
     "text": [
      "0\tThêm 11 ca dương tính nCoV Bốn người ở TP HCM, 5 người tại Hà Nội, một Lai Châu, một Thanh Hóa được xác định dương tính nCoV, nâng số bệnh nhân đến tối 24/3 lên 134\n"
     ]
    },
    {
     "name": "stdin",
     "output_type": "stream",
     "text": [
      "Press Enter to start record... \n"
     ]
    },
    {
     "name": "stdout",
     "output_type": "stream",
     "text": [
      "recording\n",
      "done recording\n",
      "1\tCả 4 bệnh nhân mới ở TP HCM đều liên quan đến quán bar Buddha - nơi đến của các ca bệnh 91, 97, 98, 120\n"
     ]
    },
    {
     "name": "stdin",
     "output_type": "stream",
     "text": [
      "Press Enter to start record... \n"
     ]
    },
    {
     "name": "stdout",
     "output_type": "stream",
     "text": [
      "recording\n",
      "done recording\n",
      "2\tNhư vậy, chỉ riêng đường lây nhiễm liên quan bar Buddha hiện có 8 bệnh nhân gồm 7 người nước ngoài (khách đến bar chơi), một người Việt là nhân viên phục vụ bàn\n"
     ]
    },
    {
     "name": "stdin",
     "output_type": "stream",
     "text": [
      "Press Enter to start record... \n"
     ]
    },
    {
     "name": "stdout",
     "output_type": "stream",
     "text": [
      "recording\n",
      "done recording\n",
      "3\t\"Bệnh nhân 124\", nam, 52 tuổi, quốc tịch Brazil, trú tại quận 2, TP HCM\n"
     ]
    },
    {
     "name": "stdin",
     "output_type": "stream",
     "text": [
      "Press Enter to start record... \n"
     ]
    },
    {
     "name": "stdout",
     "output_type": "stream",
     "text": [
      "recording\n",
      "done recording\n",
      "4\tNgười này làm việc tại công ty TNHH giày Gia Định, có 2 chi nhánh tại huyện Vĩnh Cửu, Đồng Nai và quận 2\n"
     ]
    },
    {
     "name": "stdin",
     "output_type": "stream",
     "text": [
      "Press Enter to start record... \n"
     ]
    },
    {
     "name": "stdout",
     "output_type": "stream",
     "text": [
      "recording\n",
      "done recording\n"
     ]
    }
   ],
   "source": [
    "i = 0\n",
    "for sentence in sentences[:-25]:\n",
    "    print(str(i) + '\\t' + sentence)\n",
    "    input('Press Enter to start record...')\n",
    "    # HAVE TO CHANGE FS HERE bigger than 16000 ???\n",
    "    # 44100 is the default_samplerate of mic\n",
    "    sync_record('thoi_su_' + str(i) + '.wav', 1, 44100, 2)\n",
    "    i+=1"
   ]
  },
  {
   "cell_type": "code",
   "execution_count": 13,
   "metadata": {},
   "outputs": [],
   "source": [
    "import queue\n",
    "\n",
    "q = queue.Queue()\n",
    "\n",
    "def callback(indata, frames, time, status):\n",
    "    \"\"\"This is called (from a separate thread) for each audio block.\"\"\"\n",
    "    if status:\n",
    "        print(status, file=sys.stderr)\n",
    "    q.put(indata.copy())"
   ]
  },
  {
   "cell_type": "code",
   "execution_count": 17,
   "metadata": {},
   "outputs": [
    {
     "ename": "OSError",
     "evalue": "File exists: 'testInputStream.wav'",
     "output_type": "error",
     "traceback": [
      "\u001b[1;31m---------------------------------------------------------------------------\u001b[0m",
      "\u001b[1;31mOSError\u001b[0m                                   Traceback (most recent call last)",
      "\u001b[1;32m<ipython-input-17-85a470b9b8f6>\u001b[0m in \u001b[0;36m<module>\u001b[1;34m\u001b[0m\n\u001b[0;32m      1\u001b[0m \u001b[1;32mtry\u001b[0m\u001b[1;33m:\u001b[0m\u001b[1;33m\u001b[0m\u001b[1;33m\u001b[0m\u001b[0m\n\u001b[1;32m----> 2\u001b[1;33m     \u001b[0mfile\u001b[0m \u001b[1;33m=\u001b[0m \u001b[0msf\u001b[0m\u001b[1;33m.\u001b[0m\u001b[0mSoundFile\u001b[0m\u001b[1;33m(\u001b[0m\u001b[1;34m'testInputStream.wav'\u001b[0m\u001b[1;33m,\u001b[0m \u001b[0mmode\u001b[0m\u001b[1;33m=\u001b[0m\u001b[1;34m'x'\u001b[0m\u001b[1;33m,\u001b[0m \u001b[0msamplerate\u001b[0m\u001b[1;33m=\u001b[0m\u001b[1;36m44100\u001b[0m\u001b[1;33m,\u001b[0m \u001b[0mchannels\u001b[0m\u001b[1;33m=\u001b[0m\u001b[1;36m2\u001b[0m\u001b[1;33m)\u001b[0m\u001b[1;33m\u001b[0m\u001b[1;33m\u001b[0m\u001b[0m\n\u001b[0m\u001b[0;32m      3\u001b[0m     \u001b[1;32mwith\u001b[0m \u001b[0msd\u001b[0m\u001b[1;33m.\u001b[0m\u001b[0mInputStream\u001b[0m\u001b[1;33m(\u001b[0m\u001b[0msamplerate\u001b[0m\u001b[1;33m=\u001b[0m\u001b[1;36m44100\u001b[0m\u001b[1;33m,\u001b[0m \u001b[0mchannels\u001b[0m\u001b[1;33m=\u001b[0m\u001b[1;36m2\u001b[0m\u001b[1;33m,\u001b[0m \u001b[0mcallback\u001b[0m\u001b[1;33m=\u001b[0m\u001b[0mcallback\u001b[0m\u001b[1;33m)\u001b[0m\u001b[1;33m:\u001b[0m\u001b[1;33m\u001b[0m\u001b[1;33m\u001b[0m\u001b[0m\n\u001b[0;32m      4\u001b[0m         \u001b[0mprint\u001b[0m\u001b[1;33m(\u001b[0m\u001b[1;34m'#'\u001b[0m \u001b[1;33m*\u001b[0m \u001b[1;36m80\u001b[0m\u001b[1;33m)\u001b[0m\u001b[1;33m\u001b[0m\u001b[1;33m\u001b[0m\u001b[0m\n\u001b[0;32m      5\u001b[0m         \u001b[0mprint\u001b[0m\u001b[1;33m(\u001b[0m\u001b[1;34m'press Ctrl+C to stop the recording'\u001b[0m\u001b[1;33m)\u001b[0m\u001b[1;33m\u001b[0m\u001b[1;33m\u001b[0m\u001b[0m\n",
      "\u001b[1;32m~\\Miniconda3\\envs\\voice\\lib\\site-packages\\soundfile.py\u001b[0m in \u001b[0;36m__init__\u001b[1;34m(self, file, mode, samplerate, channels, subtype, endian, format, closefd)\u001b[0m\n\u001b[0;32m    627\u001b[0m         self._info = _create_info_struct(file, mode, samplerate, channels,\n\u001b[0;32m    628\u001b[0m                                          format, subtype, endian)\n\u001b[1;32m--> 629\u001b[1;33m         \u001b[0mself\u001b[0m\u001b[1;33m.\u001b[0m\u001b[0m_file\u001b[0m \u001b[1;33m=\u001b[0m \u001b[0mself\u001b[0m\u001b[1;33m.\u001b[0m\u001b[0m_open\u001b[0m\u001b[1;33m(\u001b[0m\u001b[0mfile\u001b[0m\u001b[1;33m,\u001b[0m \u001b[0mmode_int\u001b[0m\u001b[1;33m,\u001b[0m \u001b[0mclosefd\u001b[0m\u001b[1;33m)\u001b[0m\u001b[1;33m\u001b[0m\u001b[1;33m\u001b[0m\u001b[0m\n\u001b[0m\u001b[0;32m    630\u001b[0m         \u001b[1;32mif\u001b[0m \u001b[0mset\u001b[0m\u001b[1;33m(\u001b[0m\u001b[0mmode\u001b[0m\u001b[1;33m)\u001b[0m\u001b[1;33m.\u001b[0m\u001b[0missuperset\u001b[0m\u001b[1;33m(\u001b[0m\u001b[1;34m'r+'\u001b[0m\u001b[1;33m)\u001b[0m \u001b[1;32mand\u001b[0m \u001b[0mself\u001b[0m\u001b[1;33m.\u001b[0m\u001b[0mseekable\u001b[0m\u001b[1;33m(\u001b[0m\u001b[1;33m)\u001b[0m\u001b[1;33m:\u001b[0m\u001b[1;33m\u001b[0m\u001b[1;33m\u001b[0m\u001b[0m\n\u001b[0;32m    631\u001b[0m             \u001b[1;31m# Move write position to 0 (like in Python file objects)\u001b[0m\u001b[1;33m\u001b[0m\u001b[1;33m\u001b[0m\u001b[1;33m\u001b[0m\u001b[0m\n",
      "\u001b[1;32m~\\Miniconda3\\envs\\voice\\lib\\site-packages\\soundfile.py\u001b[0m in \u001b[0;36m_open\u001b[1;34m(self, file, mode_int, closefd)\u001b[0m\n\u001b[0;32m   1163\u001b[0m             \u001b[1;32mif\u001b[0m \u001b[0m_os\u001b[0m\u001b[1;33m.\u001b[0m\u001b[0mpath\u001b[0m\u001b[1;33m.\u001b[0m\u001b[0misfile\u001b[0m\u001b[1;33m(\u001b[0m\u001b[0mfile\u001b[0m\u001b[1;33m)\u001b[0m\u001b[1;33m:\u001b[0m\u001b[1;33m\u001b[0m\u001b[1;33m\u001b[0m\u001b[0m\n\u001b[0;32m   1164\u001b[0m                 \u001b[1;32mif\u001b[0m \u001b[1;34m'x'\u001b[0m \u001b[1;32min\u001b[0m \u001b[0mself\u001b[0m\u001b[1;33m.\u001b[0m\u001b[0mmode\u001b[0m\u001b[1;33m:\u001b[0m\u001b[1;33m\u001b[0m\u001b[1;33m\u001b[0m\u001b[0m\n\u001b[1;32m-> 1165\u001b[1;33m                     \u001b[1;32mraise\u001b[0m \u001b[0mOSError\u001b[0m\u001b[1;33m(\u001b[0m\u001b[1;34m\"File exists: {0!r}\"\u001b[0m\u001b[1;33m.\u001b[0m\u001b[0mformat\u001b[0m\u001b[1;33m(\u001b[0m\u001b[0mself\u001b[0m\u001b[1;33m.\u001b[0m\u001b[0mname\u001b[0m\u001b[1;33m)\u001b[0m\u001b[1;33m)\u001b[0m\u001b[1;33m\u001b[0m\u001b[1;33m\u001b[0m\u001b[0m\n\u001b[0m\u001b[0;32m   1166\u001b[0m                 \u001b[1;32melif\u001b[0m \u001b[0mset\u001b[0m\u001b[1;33m(\u001b[0m\u001b[0mself\u001b[0m\u001b[1;33m.\u001b[0m\u001b[0mmode\u001b[0m\u001b[1;33m)\u001b[0m\u001b[1;33m.\u001b[0m\u001b[0missuperset\u001b[0m\u001b[1;33m(\u001b[0m\u001b[1;34m'w+'\u001b[0m\u001b[1;33m)\u001b[0m\u001b[1;33m:\u001b[0m\u001b[1;33m\u001b[0m\u001b[1;33m\u001b[0m\u001b[0m\n\u001b[0;32m   1167\u001b[0m                     \u001b[1;31m# truncate the file, because SFM_RDWR doesn't:\u001b[0m\u001b[1;33m\u001b[0m\u001b[1;33m\u001b[0m\u001b[1;33m\u001b[0m\u001b[0m\n",
      "\u001b[1;31mOSError\u001b[0m: File exists: 'testInputStream.wav'"
     ]
    }
   ],
   "source": [
    "try:\n",
    "    file = sf.SoundFile('testInputStream.wav', mode='x', samplerate=44100, channels=2)\n",
    "    with sd.InputStream(samplerate=44100, channels=2, callback=callback):\n",
    "        print('#' * 80)\n",
    "        print('press Ctrl+C to stop the recording')\n",
    "        print('#' * 80)\n",
    "        while True:\n",
    "            file.write(q.get())\n",
    "except KeyboardInterrupt:\n",
    "    print('\\nRecording finished: ' + repr('FILE NAME HERE!'))"
   ]
  },
  {
   "cell_type": "code",
   "execution_count": 18,
   "metadata": {},
   "outputs": [],
   "source": [
    "sync_playback('./testInputStrea.wav')"
   ]
  },
  {
   "cell_type": "code",
   "execution_count": null,
   "metadata": {},
   "outputs": [],
   "source": []
  }
 ],
 "metadata": {
  "kernelspec": {
   "display_name": "Python 3",
   "language": "python",
   "name": "python3"
  },
  "language_info": {
   "codemirror_mode": {
    "name": "ipython",
    "version": 3
   },
   "file_extension": ".py",
   "mimetype": "text/x-python",
   "name": "python",
   "nbconvert_exporter": "python",
   "pygments_lexer": "ipython3",
   "version": "3.7.7"
  }
 },
 "nbformat": 4,
 "nbformat_minor": 4
}
