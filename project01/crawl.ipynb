{
 "cells": [
  {
   "cell_type": "code",
   "execution_count": 1,
   "metadata": {},
   "outputs": [],
   "source": [
    "import requests\n",
    "import urllib.request\n",
    "import time\n",
    "from bs4 import BeautifulSoup"
   ]
  },
  {
   "cell_type": "code",
   "execution_count": 29,
   "metadata": {},
   "outputs": [],
   "source": [
    "urls = {}"
   ]
  },
  {
   "cell_type": "code",
   "execution_count": 30,
   "metadata": {},
   "outputs": [],
   "source": [
    "with open('urls.txt', 'r') as urlFile:\n",
    "    lines = urlFile.readlines()"
   ]
  },
  {
   "cell_type": "code",
   "execution_count": 31,
   "metadata": {},
   "outputs": [
    {
     "data": {
      "text/plain": [
       "['thoi_su: https://vnexpress.net/thoi-su/hai-nguoi-chet-sau-vu-chay-cua-hang-4075990.html\\n',\n",
       " 'goc_nhin: https://vnexpress.net/goc-nhin/bao-ve-thay-thuoc-4060928.html\\n',\n",
       " 'the_gioi: https://vnexpress.net/the-gioi/viet-nam-khuyen-cao-cong-dan-khong-ve-nuoc-4076204.html\\n',\n",
       " 'kinh_doanh: https://vnexpress.net/kinh-doanh/xang-co-the-tiep-tuc-giam-sau-ngay-mai-4076155.html\\n',\n",
       " 'giai_tri: https://vnexpress.net/giai-tri/cac-rap-phim-trung-quoc-lai-dong-cua-4076117.html\\n',\n",
       " 'the_thao: https://vnexpress.net/the-thao/ioc-muon-to-chuc-olympic-dau-nam-2021-4076115.html\\n',\n",
       " 'phap_luat: https://vnexpress.net/phap-luat/hai-thanh-nien-dung-sung-cuop-cua-hang-4076176.html\\n',\n",
       " 'giao_duc: https://vnexpress.net/giao-duc/70-000-sinh-vien-tiep-tuc-nghi-hoc-4075629.html\\n',\n",
       " 'suc_khoe: https://vnexpress.net/suc-khoe/tp-hcm-lay-mau-xet-nghiem-tan-nha-nguoi-nhap-canh-4076101.html\\n',\n",
       " 'doi_song: https://vnexpress.net/doi-song/benh-nhan-covid-19-nhu-co-thuy-tinh-trong-phoi-4072577.html\\n',\n",
       " 'du_lich: https://vnexpress.net/du-lich/bi-phat-tien-vi-roi-nha-khi-cach-ly-4075780.html\\n',\n",
       " 'khoa_hoc: https://vnexpress.net/khoa-hoc/duoi-uoi-tu-lau-don-chuong-4075978.html\\n',\n",
       " 'so_hoa: https://vnexpress.net/so-hoa/ung-dung-ncovi-canh-bao-suc-khoe-qua-ma-qr-4075795.html\\n',\n",
       " 'xe: https://vnexpress.net/oto-xe-may/nhieu-cua-hang-xang-dau-co-the-bi-dong-cua-vi-covid-19-4075820.html\\n',\n",
       " 'y_kien: https://vnexpress.net/y-kien/the-na-o-la-dong-cua-hang-dich-vu-khong-thiet-yeu-o-ha-no-i-4075105.html\\n',\n",
       " 'tam_su: https://vnexpress.net/tam-su/ban-trai-im-lang-ca-tuan-khi-gian-doi-4075537.html\\n']"
      ]
     },
     "execution_count": 31,
     "metadata": {},
     "output_type": "execute_result"
    }
   ],
   "source": [
    "lines"
   ]
  },
  {
   "cell_type": "code",
   "execution_count": 36,
   "metadata": {},
   "outputs": [],
   "source": [
    "for line in lines:\n",
    "    cat, url = line.split(': ')\n",
    "    urls[cat] = url[:-1]"
   ]
  },
  {
   "cell_type": "code",
   "execution_count": 37,
   "metadata": {},
   "outputs": [
    {
     "data": {
      "text/plain": [
       "{'thoi_su': 'https://vnexpress.net/thoi-su/hai-nguoi-chet-sau-vu-chay-cua-hang-4075990.html',\n",
       " 'goc_nhin': 'https://vnexpress.net/goc-nhin/bao-ve-thay-thuoc-4060928.html',\n",
       " 'the_gioi': 'https://vnexpress.net/the-gioi/viet-nam-khuyen-cao-cong-dan-khong-ve-nuoc-4076204.html',\n",
       " 'kinh_doanh': 'https://vnexpress.net/kinh-doanh/xang-co-the-tiep-tuc-giam-sau-ngay-mai-4076155.html',\n",
       " 'giai_tri': 'https://vnexpress.net/giai-tri/cac-rap-phim-trung-quoc-lai-dong-cua-4076117.html',\n",
       " 'the_thao': 'https://vnexpress.net/the-thao/ioc-muon-to-chuc-olympic-dau-nam-2021-4076115.html',\n",
       " 'phap_luat': 'https://vnexpress.net/phap-luat/hai-thanh-nien-dung-sung-cuop-cua-hang-4076176.html',\n",
       " 'giao_duc': 'https://vnexpress.net/giao-duc/70-000-sinh-vien-tiep-tuc-nghi-hoc-4075629.html',\n",
       " 'suc_khoe': 'https://vnexpress.net/suc-khoe/tp-hcm-lay-mau-xet-nghiem-tan-nha-nguoi-nhap-canh-4076101.html',\n",
       " 'doi_song': 'https://vnexpress.net/doi-song/benh-nhan-covid-19-nhu-co-thuy-tinh-trong-phoi-4072577.html',\n",
       " 'du_lich': 'https://vnexpress.net/du-lich/bi-phat-tien-vi-roi-nha-khi-cach-ly-4075780.html',\n",
       " 'khoa_hoc': 'https://vnexpress.net/khoa-hoc/duoi-uoi-tu-lau-don-chuong-4075978.html',\n",
       " 'so_hoa': 'https://vnexpress.net/so-hoa/ung-dung-ncovi-canh-bao-suc-khoe-qua-ma-qr-4075795.html',\n",
       " 'xe': 'https://vnexpress.net/oto-xe-may/nhieu-cua-hang-xang-dau-co-the-bi-dong-cua-vi-covid-19-4075820.html',\n",
       " 'y_kien': 'https://vnexpress.net/y-kien/the-na-o-la-dong-cua-hang-dich-vu-khong-thiet-yeu-o-ha-no-i-4075105.html',\n",
       " 'tam_su': 'https://vnexpress.net/tam-su/ban-trai-im-lang-ca-tuan-khi-gian-doi-4075537.html'}"
      ]
     },
     "execution_count": 37,
     "metadata": {},
     "output_type": "execute_result"
    }
   ],
   "source": [
    "urls"
   ]
  },
  {
   "cell_type": "code",
   "execution_count": 3,
   "metadata": {},
   "outputs": [],
   "source": [
    "def crawl(cat, url):\n",
    "    response = requests.get(url)\n",
    "    soup = BeautifulSoup(response.content)\n",
    "    article = soup.find(class_='fck_detail')\n",
    "    if cat != 'goc_nhin':\n",
    "        title = soup.find('h1', class_='title_news_detail mb10')\n",
    "        description = soup.find(class_='description')\n",
    "    else:\n",
    "        title = soup.find('h1', class_='title_gn_detail')\n",
    "    article_list = article.find_all('p', class_='Normal')\n",
    "    with open(cat + '.txt', 'w', encoding='utf-8') as file:\n",
    "        file.write(url)\n",
    "        file.write(title.text[:-1] + '.\\n')\n",
    "        if cat != 'goc_nhin':\n",
    "            file.write(description.text + '\\n')\n",
    "        file.write('\\n'.join([p.text for p in article_list[:-1]]))"
   ]
  },
  {
   "cell_type": "code",
   "execution_count": 43,
   "metadata": {},
   "outputs": [],
   "source": [
    "for cat in urls:\n",
    "    crawl(cat, urls[cat])"
   ]
  },
  {
   "cell_type": "code",
   "execution_count": 8,
   "metadata": {},
   "outputs": [],
   "source": [
    "url = \"https://vnexpress.net/thoi-su/duong-sat-khai-thac-mot-doi-tau-bac-nam-4077847.html\""
   ]
  },
  {
   "cell_type": "code",
   "execution_count": 9,
   "metadata": {},
   "outputs": [],
   "source": [
    "response = requests.get(url)\n",
    "soup = BeautifulSoup(response.content)\n",
    "article = soup.find(class_='fck_detail')"
   ]
  },
  {
   "cell_type": "code",
   "execution_count": 12,
   "metadata": {},
   "outputs": [],
   "source": [
    "def crawl(cat, url):\n",
    "    response = requests.get(url)\n",
    "    soup = BeautifulSoup(response.content)\n",
    "    article = soup.find(class_='fck_detail')\n",
    "    if cat != 'goc_nhin':\n",
    "        title = soup.find('h1', class_='title_news_detail mb10')\n",
    "        description = soup.find(class_='description')\n",
    "    else:\n",
    "        title = soup.find('h1', class_='title_gn_detail')\n",
    "    article_list = article.find_all('p', class_='Normal')\n",
    "    with open(cat + '.txt', 'w', encoding='utf-8') as file:\n",
    "        file.write(url)\n",
    "        if cat != 'goc_nhin':\n",
    "            file.write(title.text[:-1] + '.\\n')\n",
    "            file.write(description.text + '\\n')\n",
    "        else:\n",
    "            file.write('\\n' + title.text + '.\\n')\n",
    "        file.write('\\n'.join([p.text for p in article_list[:-1]]))"
   ]
  },
  {
   "cell_type": "code",
   "execution_count": 11,
   "metadata": {},
   "outputs": [],
   "source": [
    "from underthesea import sent_tokenize"
   ]
  },
  {
   "cell_type": "code",
   "execution_count": 61,
   "metadata": {},
   "outputs": [],
   "source": [
    "crawl('the_gioi_temp', 'https://vnexpress.net/the-gioi/benh-vien-new-york-khong-con-cho-chua-xac-chet-4077810.html')"
   ]
  },
  {
   "cell_type": "code",
   "execution_count": 62,
   "metadata": {},
   "outputs": [],
   "source": [
    "with open('the_gioi_temp' + '.txt', 'r', encoding='utf-8') as f:\n",
    "    f.readline()\n",
    "    text = f.read()\n",
    "sentences = sent_tokenize(text)"
   ]
  },
  {
   "cell_type": "code",
   "execution_count": 63,
   "metadata": {},
   "outputs": [
    {
     "name": "stdout",
     "output_type": "stream",
     "text": [
      "0\tBệnh viện New York không còn chỗ chứa xác chết.\n",
      "1\tY bác sĩ mặc đồ bảo hộ đưa thi thể bệnh nhân Covid-19 vào xe đông lạnh đang trở thành hình ảnh quen thuộc ở các bệnh viện New York.\n",
      "2\tSố người chết vì Covid-19 tại thành phố New York, tâm dịch Covid-19 tại Mỹ, tăng vọt lên gần 1.000 khiến các nhà xác bệnh viện bị quá tải, buộc giới chức phải tìm những chỗ trống để bảo quản thi thể.\n",
      "3\tCơ quan Quản lý Khẩn cấp Liên bang Mỹ (FEMA) đã phải điều 85 xe đông lạnh tới New York để làm nhà xác dã chiến.\n",
      "4\tTình trạng này diễn ra tại Bệnh viện Trung tâm Brooklyn (BHC) suốt nhiều ngày qua.\n",
      "5\tCác y tá đẩy xe với thi thể đựng trong túi nhựa trắng ra ngoài và dùng xe nâng để đưa vào khoang đông lạnh, thi thể sẽ nằm đó đến khi được nhân viên nhà tang lễ đưa đi.\n",
      "6\t\"Khủng hoảng chưa từng có buộc chúng tôi áp dụng các biện pháp đặc biệt.\n",
      "7\tHiện chúng tôi cần thêm nơi lưu trữ để tiếp nhận số ca tử vong tăng vọt, vốn đã gây quá tải hệ thống chăm sóc từ bệnh viện đến nhà tang lễ\", BHC ra thông cáo cho biết.\n",
      "8\tVăn phòng pháp y thành phố cũng mở một nhà xác dã chiến giống thời điểm sau vụ khủng bố ngày 11/9/2001 để tăng khả năng xử lý thi thể.\n",
      "9\t\"Các gia đình không thể nhanh chóng chuẩn bị tang lễ.\n",
      "10\tBệnh nhân qua đời vẫn phải giữ tại bệnh viện và cần có thêm không gian bảo quản\", thông cáo của BHC có đoạn viết.\n",
      "11\tSố người chết tại thành phố New York đã tăng gấp đôi trong 4 ngày qua, từ 450 hôm 27/3 lên 932 vào sáng 31/3.\n",
      "12\tPhần lớn bệnh nhân chỉ có triệu chứng nhẹ như sốt và ho khan.\n",
      "13\tTuy nhiên, những người cao tuổi và người có bệnh lý nền có thể gặp những biến chứng nặng như viêm phổi dẫn đến tử vong.\n",
      "14\tMỹ đến nay ghi nhận 188.172 ca nhiễm và 3.873 người chết, tiếp tục là vùng dịch lớn nhất thế giới, theo số liệu từ Đại học Johns Hopkins.\n",
      "15\tSố ca tử vong vì nCoV tại Mỹ đã vượt Trung Quốc, nơi đang ghi nhận 3.305 người chết.\n",
      "16\tBang New York là nơi chịu ảnh hưởng nặng nề nhất bởi Covid-19.\n",
      "17\tThống đốc Andrew Cuomo phải lên tiếng kêu gọi hỗ trợ y tế khẩn cấp trong bối cảnh số người chết do nCoV tại đây đã vượt 1.500.\n",
      "18\t\"Nhìn thấy những xe đông lạnh và tác dụng của chúng, không ai có thể tin nổi\", Tổng thống Mỹ Donald Trump nói hôm qua.\n",
      "19\tTại một số bệnh viện như Lenox Hill ở Manhattan, các xe đông lạnh đỗ ngay trên phố, dọc vỉa hè phía trước các chung cư.\n",
      "20\tÔtô và xe buýt vẫn đi qua trong lúc thi thể bệnh nhân được đưa vào trong.\n",
      "21\t\"Thật khó tin nhưng đây là sự thật.\n",
      "22\tCầu Chúa cứu giúp chúng ta, đây là sự thật\", một người dân nói trong video đăng trên mạng xã hội hôm qua.\n"
     ]
    }
   ],
   "source": [
    "i = 0\n",
    "for sen in sentences:\n",
    "    print(str(i) + '\\t' + sen)\n",
    "    i+=1"
   ]
  },
  {
   "cell_type": "code",
   "execution_count": null,
   "metadata": {},
   "outputs": [],
   "source": [
    "'thoi_su_temp', 'https://vnexpress.net/thoi-su/duong-sat-khai-thac-mot-doi-tau-bac-nam-4077847.html'\n",
    "'giao_duc_temp', 'https://vnexpress.net/giao-duc/cong-bo-noi-dung-tinh-gian-chuong-trinh-tieu-hoc-4077676.html'\n",
    "'khoa_hoc_temp', 'https://vnexpress.net/khoa-hoc/bao-amur-con-chay-tron-khoi-dam-chay-4077265.html'\n",
    "'phap_luat_temp', 'https://vnexpress.net/phap-luat/toi-pham-kho-hoat-dong-trong-covid-19-4075802.html'\n",
    "'so_hoa_temp', 'https://vnexpress.net/so-hoa/netflix-giam-luu-luong-tai-viet-nam-4078017.html'\n",
    "'suc_khoe_temp', 'https://vnexpress.net/suc-khoe/hai-benh-nhan-ninh-thuan-xuat-vien-4077831.html'\n",
    "'the_gioi_temp', 'https://vnexpress.net/the-gioi/benh-vien-new-york-khong-con-cho-chua-xac-chet-4077810.html'"
   ]
  }
 ],
 "metadata": {
  "kernelspec": {
   "display_name": "Python 3",
   "language": "python",
   "name": "python3"
  },
  "language_info": {
   "codemirror_mode": {
    "name": "ipython",
    "version": 3
   },
   "file_extension": ".py",
   "mimetype": "text/x-python",
   "name": "python",
   "nbconvert_exporter": "python",
   "pygments_lexer": "ipython3",
   "version": "3.7.7"
  }
 },
 "nbformat": 4,
 "nbformat_minor": 4
}
